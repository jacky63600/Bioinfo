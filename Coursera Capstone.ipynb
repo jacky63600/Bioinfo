{
    "nbformat_minor": 1, 
    "cells": [
        {
            "source": "# Capstone Project", 
            "cell_type": "markdown", 
            "metadata": {}
        }, 
        {
            "source": "### Introduction", 
            "cell_type": "markdown", 
            "metadata": {}
        }, 
        {
            "source": "In this project, I want to see if people would like my home town, Dalin, Chiayi, Taiwan.  You can think of this project as a content-based recommendation system.  The program will first ask the user to input ratings for 5 locations of his/her choice.  The program will analyze the locations, exploring nearby venues and finding the pattern.  After the program gets a hint of what the user likes, it will apply the criteria to my home town, and see if the user will like it.", 
            "cell_type": "markdown", 
            "metadata": {}
        }, 
        {
            "source": "### Preparation", 
            "cell_type": "markdown", 
            "metadata": {}
        }, 
        {
            "source": "We first install/import the necessary libraries.", 
            "cell_type": "markdown", 
            "metadata": {}
        }, 
        {
            "execution_count": 1, 
            "cell_type": "code", 
            "metadata": {}, 
            "outputs": [], 
            "source": "#Install the following if you haven't\n#!conda install -c conda-forge folium=0.5.0 --yes\n#!conda install -c conda-forge geopy --yes \n\nimport folium\nfrom IPython.display import Image \nfrom pandas.io.json import json_normalize\nfrom geopy.geocoders import Nominatim\nimport numpy as np\nimport pandas as pd\nimport json\nimport requests"
        }, 
        {
            "source": "### User's time", 
            "cell_type": "markdown", 
            "metadata": {}
        }, 
        {
            "source": "We would like the user to rate 5 locations of their choice, but it is error-prone to ask the user for a location name.  The name may not be specific enough for the program to locate, and all kinds of problems may cause the program to break down.  Therefore, I will ask for coordinates instead.", 
            "cell_type": "markdown", 
            "metadata": {}
        }, 
        {
            "source": "But how does the user know the coordinates of the places?  They can take advantage of the following cell of code, which asks for an address as input, and show the location on the map.  If the location is valid and is what the user wanted, they can use the coordinates in the next cell.", 
            "cell_type": "markdown", 
            "metadata": {}
        }, 
        {
            "source": "I understand that this step is not very convinent, but at this time being, I still do not have enough skills in designing a graphical user interface, where users might be able to select the locations they want on the map and load the data to other parts of the program.  This is the best design I can do to avoid failure for now.  Feel free to tell me if you have an better idea!  I would very much appreciate it :)", 
            "cell_type": "markdown", 
            "metadata": {}
        }, 
        {
            "execution_count": 2, 
            "cell_type": "code", 
            "metadata": {}, 
            "outputs": [
                {
                    "output_type": "stream", 
                    "name": "stdout", 
                    "text": "Enter a city's name: manhattan\n40.7900869 -73.9598295\n"
                }, 
                {
                    "execution_count": 2, 
                    "metadata": {}, 
                    "data": {
                        "text/html": "<div style=\"width:100%;\"><div style=\"position:relative;width:100%;height:0;padding-bottom:60%;\"><iframe src=\"data:text/html;charset=utf-8;base64,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\" style=\"position:absolute;width:100%;height:100%;left:0;top:0;border:none !important;\" allowfullscreen webkitallowfullscreen mozallowfullscreen></iframe></div></div>", 
                        "text/plain": "<folium.folium.Map at 0x7f06d83d7c88>"
                    }, 
                    "output_type": "execute_result"
                }
            ], 
            "source": "address = input(\"Enter a city's name: \")\n\ngeolocator = Nominatim(user_agent = \"foursquare_agent\")\nlocation = geolocator.geocode(address)\n\nprint(location.latitude, location.longitude)\n\nvenues_map = folium.Map(location = [location.latitude, location.longitude], zoom_start=13) # generate map centred around the Conrad Hotel\nvenues_map"
        }, 
        {
            "source": "Now, the program will ask the user to input the location (in coordinates, separated by a comma) and the rating (1-10).  This process will run for five times.  The program will also do some basic checking to make sure that the input values are valid.  If the input values are not valid, the program will make that value NaN. ", 
            "cell_type": "markdown", 
            "metadata": {}
        }, 
        {
            "execution_count": 3, 
            "cell_type": "code", 
            "metadata": {}, 
            "outputs": [
                {
                    "output_type": "stream", 
                    "name": "stdout", 
                    "text": "Enter Coordinates, separated by a comma: 40.876551, -73.910660\nEnter Numerical Rating Out of Ten: 8\nEnter Coordinates, separated by a comma: 40.715618, -73.994279\nEnter Numerical Rating Out of Ten: 9\nEnter Coordinates, separated by a comma: 40.851903, -73.936900\nEnter Numerical Rating Out of Ten: 8\nEnter Coordinates, separated by a comma: 40.867684, -73.921210\nEnter Numerical Rating Out of Ten: 10\nEnter Coordinates, separated by a comma: 40.823604, -73.949688\nEnter Numerical Rating Out of Ten: 7\n"
                }
            ], 
            "source": "# Generate an empty dataframe before storing values in it.\ndf = pd.DataFrame({\"Latitude\":[np.nan]*5, \"Longitude\":[np.nan]*5, \"Rating\":[np.nan]*5})\n\nfor i in range(5):\n    for j in range(2):\n        try:\n            # Propmt for input of coordinates.\n            if j == 0:\n                x1, x2 = input(\"Enter Coordinates, separated by a comma: \").replace(\" \", \"\").split(\",\")\n                x1, x2 = round(float(x1), 4), round(float(x2), 4)\n                \n                # Check if the values are true coordinates, and if so, store them into two cells.\n                if (x1 >= -90) and (x1 <= 90):\n                    df.iloc[[i], [j]] = x1\n                elif (x1 < -90) or (x1 > 90):\n                    print(\"Not a true latitude~~\")\n                    \n                if (x2 >= -180) and (x2<= 180):\n                    df.iloc[[i], [j+1]] = x2\n                elif (x2 < -180) or (x2 > 180):\n                    print(\"Not a true longitude~~\")\n\n\n            # Prompt for input of rating (0 - 10), and store the value into a cell.\n            elif j == 1:\n                x = round(float(input(\"Enter Numerical Rating Out of Ten: \")))\n                if (x <= 10) and (x >= 1):\n                    df.iloc[[i], [j+1]] = float(x)\n                elif x > 10:\n                    print(\"Max rating is 10.\")\n                    df.iloc[[i], [j+1]] = 10.0\n                elif x < 1:\n                    print(\"Min rating is 1.\")\n                    df.iloc[[i], [j+1]] = 1.0\n\n                    \n        # If any thing fails (inputs seems to fail very often), ignore them.\n        except:\n            continue"
        }, 
        {
            "source": "Dropping, the NaN, we get the final data frame, which consists of the five locations' latitude, longitude, and rating.", 
            "cell_type": "markdown", 
            "metadata": {}
        }, 
        {
            "execution_count": 4, 
            "cell_type": "code", 
            "metadata": {
                "scrolled": true
            }, 
            "outputs": [
                {
                    "execution_count": 4, 
                    "metadata": {}, 
                    "data": {
                        "text/html": "<div>\n<style scoped>\n    .dataframe tbody tr th:only-of-type {\n        vertical-align: middle;\n    }\n\n    .dataframe tbody tr th {\n        vertical-align: top;\n    }\n\n    .dataframe thead th {\n        text-align: right;\n    }\n</style>\n<table border=\"1\" class=\"dataframe\">\n  <thead>\n    <tr style=\"text-align: right;\">\n      <th></th>\n      <th>Latitude</th>\n      <th>Longitude</th>\n      <th>Rating</th>\n    </tr>\n  </thead>\n  <tbody>\n    <tr>\n      <th>0</th>\n      <td>40.8766</td>\n      <td>-73.9107</td>\n      <td>8.0</td>\n    </tr>\n    <tr>\n      <th>1</th>\n      <td>40.7156</td>\n      <td>-73.9943</td>\n      <td>9.0</td>\n    </tr>\n    <tr>\n      <th>2</th>\n      <td>40.8519</td>\n      <td>-73.9369</td>\n      <td>8.0</td>\n    </tr>\n    <tr>\n      <th>3</th>\n      <td>40.8677</td>\n      <td>-73.9212</td>\n      <td>10.0</td>\n    </tr>\n    <tr>\n      <th>4</th>\n      <td>40.8236</td>\n      <td>-73.9497</td>\n      <td>7.0</td>\n    </tr>\n  </tbody>\n</table>\n</div>", 
                        "text/plain": "   Latitude  Longitude  Rating\n0   40.8766   -73.9107     8.0\n1   40.7156   -73.9943     9.0\n2   40.8519   -73.9369     8.0\n3   40.8677   -73.9212    10.0\n4   40.8236   -73.9497     7.0"
                    }, 
                    "output_type": "execute_result"
                }
            ], 
            "source": "# Drop nans and print the final df\ndf = df.dropna()\ndf"
        }, 
        {
            "source": "### Getting information from Foursquare", 
            "cell_type": "markdown", 
            "metadata": {}
        }, 
        {
            "source": "After the user input all the necessary information, we can start analyzing them.  Since I want to get data from Foursquare, I need to set the parameters.", 
            "cell_type": "markdown", 
            "metadata": {}
        }, 
        {
            "execution_count": 5, 
            "cell_type": "code", 
            "metadata": {}, 
            "outputs": [], 
            "source": "CLIENT_ID = 'N33X1C2M2311BSIALFYZMLSNMWVKEKUTSWPYJ2TPGLXF3LN0'\nCLIENT_SECRET = 'EBXLWZKEVEMH3SA2ULL0BHYK4BBKIJHJDLEGMX2B3XGQM20B'\nVERSION = '20180605'\nLIMIT = 100 "
        }, 
        {
            "source": "Now, I will define a function that helps me get all useful information from Foursquare.  Since this function has no limit on the size of the data, it can also work with more location inputs.  As for now, five locations is enough for demonstration.", 
            "cell_type": "markdown", 
            "metadata": {}
        }, 
        {
            "execution_count": 6, 
            "cell_type": "code", 
            "metadata": {}, 
            "outputs": [], 
            "source": "def getNearbyVenues(latitudes, longitudes, radius=500):\n    \n    venues_list=[]\n    for lat, lng in zip(latitudes, longitudes):\n        \n        # create the API request URL\n        url = 'https://api.foursquare.com/v2/venues/explore?&client_id={}&client_secret={}&v={}&ll={},{}&radius={}&limit={}'.format(\n            CLIENT_ID, \n            CLIENT_SECRET, \n            VERSION, \n            lat, \n            lng, \n            radius, \n            LIMIT)\n            \n        # make the GET request\n        results = requests.get(url).json()[\"response\"]['groups'][0]['items']\n\n\n        # return only relevant information for each nearby venue\n        venues_list.append([(\n            lat, \n            lng, \n            v['venue']['name'], \n            v['venue']['location']['lat'], \n            v['venue']['location']['lng'],  \n            v['venue']['categories'][0]['name']) for v in results])\n    nearby_venues = pd.DataFrame([item for venue_list in venues_list for item in venue_list])\n    nearby_venues.columns = ['Neighborhood Latitude', \n                  'Neighborhood Longitude', \n                  'Venue', \n                  'Venue Latitude', \n                  'Venue Longitude', \n                  'Venue Category']\n    \n    return(nearby_venues)"
        }, 
        {
            "source": "Passing in the data, we can get the venues near the locations the the user input.", 
            "cell_type": "markdown", 
            "metadata": {}
        }, 
        {
            "execution_count": 7, 
            "cell_type": "code", 
            "metadata": {}, 
            "outputs": [
                {
                    "execution_count": 7, 
                    "metadata": {}, 
                    "data": {
                        "text/html": "<div>\n<style scoped>\n    .dataframe tbody tr th:only-of-type {\n        vertical-align: middle;\n    }\n\n    .dataframe tbody tr th {\n        vertical-align: top;\n    }\n\n    .dataframe thead th {\n        text-align: right;\n    }\n</style>\n<table border=\"1\" class=\"dataframe\">\n  <thead>\n    <tr style=\"text-align: right;\">\n      <th></th>\n      <th>Neighborhood Latitude</th>\n      <th>Neighborhood Longitude</th>\n      <th>Venue</th>\n      <th>Venue Latitude</th>\n      <th>Venue Longitude</th>\n      <th>Venue Category</th>\n    </tr>\n  </thead>\n  <tbody>\n    <tr>\n      <th>0</th>\n      <td>40.8766</td>\n      <td>-73.9107</td>\n      <td>Arturo's</td>\n      <td>40.874412</td>\n      <td>-73.910271</td>\n      <td>Pizza Place</td>\n    </tr>\n    <tr>\n      <th>1</th>\n      <td>40.8766</td>\n      <td>-73.9107</td>\n      <td>Bikram Yoga</td>\n      <td>40.876844</td>\n      <td>-73.906204</td>\n      <td>Yoga Studio</td>\n    </tr>\n    <tr>\n      <th>2</th>\n      <td>40.8766</td>\n      <td>-73.9107</td>\n      <td>Tibbett Diner</td>\n      <td>40.880404</td>\n      <td>-73.908937</td>\n      <td>Diner</td>\n    </tr>\n    <tr>\n      <th>3</th>\n      <td>40.8766</td>\n      <td>-73.9107</td>\n      <td>Starbucks</td>\n      <td>40.877531</td>\n      <td>-73.905582</td>\n      <td>Coffee Shop</td>\n    </tr>\n    <tr>\n      <th>4</th>\n      <td>40.8766</td>\n      <td>-73.9107</td>\n      <td>Land &amp; Sea Restaurant</td>\n      <td>40.877885</td>\n      <td>-73.905873</td>\n      <td>Seafood Restaurant</td>\n    </tr>\n  </tbody>\n</table>\n</div>", 
                        "text/plain": "   Neighborhood Latitude  Neighborhood Longitude                  Venue  \\\n0                40.8766                -73.9107               Arturo's   \n1                40.8766                -73.9107            Bikram Yoga   \n2                40.8766                -73.9107          Tibbett Diner   \n3                40.8766                -73.9107              Starbucks   \n4                40.8766                -73.9107  Land & Sea Restaurant   \n\n   Venue Latitude  Venue Longitude      Venue Category  \n0       40.874412       -73.910271         Pizza Place  \n1       40.876844       -73.906204         Yoga Studio  \n2       40.880404       -73.908937               Diner  \n3       40.877531       -73.905582         Coffee Shop  \n4       40.877885       -73.905873  Seafood Restaurant  "
                    }, 
                    "output_type": "execute_result"
                }
            ], 
            "source": "venues = getNearbyVenues(latitudes = df['Latitude'], longitudes = df['Longitude'])\nvenues.head()"
        }, 
        {
            "source": "### Analyzing information", 
            "cell_type": "markdown", 
            "metadata": {}
        }, 
        {
            "source": "To analyze the information, we want to use one hot encoding.", 
            "cell_type": "markdown", 
            "metadata": {}
        }, 
        {
            "execution_count": 8, 
            "cell_type": "code", 
            "metadata": {}, 
            "outputs": [
                {
                    "execution_count": 8, 
                    "metadata": {}, 
                    "data": {
                        "text/html": "<div>\n<style scoped>\n    .dataframe tbody tr th:only-of-type {\n        vertical-align: middle;\n    }\n\n    .dataframe tbody tr th {\n        vertical-align: top;\n    }\n\n    .dataframe thead th {\n        text-align: right;\n    }\n</style>\n<table border=\"1\" class=\"dataframe\">\n  <thead>\n    <tr style=\"text-align: right;\">\n      <th></th>\n      <th>Neighborhood Longitude</th>\n      <th>Accessories Store</th>\n      <th>American Restaurant</th>\n      <th>Arepa Restaurant</th>\n      <th>Asian Restaurant</th>\n      <th>Austrian Restaurant</th>\n      <th>Bakery</th>\n      <th>Bank</th>\n      <th>Bar</th>\n      <th>Beer Bar</th>\n      <th>...</th>\n      <th>Tennis Stadium</th>\n      <th>Trail</th>\n      <th>Veterinarian</th>\n      <th>Video Game Store</th>\n      <th>Vietnamese Restaurant</th>\n      <th>Wine Bar</th>\n      <th>Wine Shop</th>\n      <th>Women's Store</th>\n      <th>Yoga Studio</th>\n      <th>Neighborhood Latitude</th>\n    </tr>\n  </thead>\n  <tbody>\n    <tr>\n      <th>0</th>\n      <td>-73.9107</td>\n      <td>0</td>\n      <td>0</td>\n      <td>0</td>\n      <td>0</td>\n      <td>0</td>\n      <td>0</td>\n      <td>0</td>\n      <td>0</td>\n      <td>0</td>\n      <td>...</td>\n      <td>0</td>\n      <td>0</td>\n      <td>0</td>\n      <td>0</td>\n      <td>0</td>\n      <td>0</td>\n      <td>0</td>\n      <td>0</td>\n      <td>0</td>\n      <td>40.8766</td>\n    </tr>\n    <tr>\n      <th>1</th>\n      <td>-73.9107</td>\n      <td>0</td>\n      <td>0</td>\n      <td>0</td>\n      <td>0</td>\n      <td>0</td>\n      <td>0</td>\n      <td>0</td>\n      <td>0</td>\n      <td>0</td>\n      <td>...</td>\n      <td>0</td>\n      <td>0</td>\n      <td>0</td>\n      <td>0</td>\n      <td>0</td>\n      <td>0</td>\n      <td>0</td>\n      <td>0</td>\n      <td>1</td>\n      <td>40.8766</td>\n    </tr>\n    <tr>\n      <th>2</th>\n      <td>-73.9107</td>\n      <td>0</td>\n      <td>0</td>\n      <td>0</td>\n      <td>0</td>\n      <td>0</td>\n      <td>0</td>\n      <td>0</td>\n      <td>0</td>\n      <td>0</td>\n      <td>...</td>\n      <td>0</td>\n      <td>0</td>\n      <td>0</td>\n      <td>0</td>\n      <td>0</td>\n      <td>0</td>\n      <td>0</td>\n      <td>0</td>\n      <td>0</td>\n      <td>40.8766</td>\n    </tr>\n    <tr>\n      <th>3</th>\n      <td>-73.9107</td>\n      <td>0</td>\n      <td>0</td>\n      <td>0</td>\n      <td>0</td>\n      <td>0</td>\n      <td>0</td>\n      <td>0</td>\n      <td>0</td>\n      <td>0</td>\n      <td>...</td>\n      <td>0</td>\n      <td>0</td>\n      <td>0</td>\n      <td>0</td>\n      <td>0</td>\n      <td>0</td>\n      <td>0</td>\n      <td>0</td>\n      <td>0</td>\n      <td>40.8766</td>\n    </tr>\n    <tr>\n      <th>4</th>\n      <td>-73.9107</td>\n      <td>0</td>\n      <td>0</td>\n      <td>0</td>\n      <td>0</td>\n      <td>0</td>\n      <td>0</td>\n      <td>0</td>\n      <td>0</td>\n      <td>0</td>\n      <td>...</td>\n      <td>0</td>\n      <td>0</td>\n      <td>0</td>\n      <td>0</td>\n      <td>0</td>\n      <td>0</td>\n      <td>0</td>\n      <td>0</td>\n      <td>0</td>\n      <td>40.8766</td>\n    </tr>\n  </tbody>\n</table>\n<p>5 rows \u00d7 122 columns</p>\n</div>", 
                        "text/plain": "   Neighborhood Longitude  Accessories Store  American Restaurant  \\\n0                -73.9107                  0                    0   \n1                -73.9107                  0                    0   \n2                -73.9107                  0                    0   \n3                -73.9107                  0                    0   \n4                -73.9107                  0                    0   \n\n   Arepa Restaurant  Asian Restaurant  Austrian Restaurant  Bakery  Bank  Bar  \\\n0                 0                 0                    0       0     0    0   \n1                 0                 0                    0       0     0    0   \n2                 0                 0                    0       0     0    0   \n3                 0                 0                    0       0     0    0   \n4                 0                 0                    0       0     0    0   \n\n   Beer Bar          ...            Tennis Stadium  Trail  Veterinarian  \\\n0         0          ...                         0      0             0   \n1         0          ...                         0      0             0   \n2         0          ...                         0      0             0   \n3         0          ...                         0      0             0   \n4         0          ...                         0      0             0   \n\n   Video Game Store  Vietnamese Restaurant  Wine Bar  Wine Shop  \\\n0                 0                      0         0          0   \n1                 0                      0         0          0   \n2                 0                      0         0          0   \n3                 0                      0         0          0   \n4                 0                      0         0          0   \n\n   Women's Store  Yoga Studio  Neighborhood Latitude  \n0              0            0                40.8766  \n1              0            1                40.8766  \n2              0            0                40.8766  \n3              0            0                40.8766  \n4              0            0                40.8766  \n\n[5 rows x 122 columns]"
                    }, 
                    "output_type": "execute_result"
                }
            ], 
            "source": "# one hot encoding\nonehot = pd.get_dummies(venues[['Venue Category']], prefix=\"\", prefix_sep=\"\")\n\n# add coordinates column back to dataframe\nonehot['Neighborhood Latitude'] = venues['Neighborhood Latitude'] \nonehot['Neighborhood Longitude'] = venues['Neighborhood Longitude'] \n\n# move neighborhood column to the first column\nfixed_columns = [onehot.columns[-1]] + list(onehot.columns[:-1])\nonehot = onehot[fixed_columns]\n\nonehot.head()"
        }, 
        {
            "source": "The information is then grouped by their locations.  Specifically, the venues nearby each locations is listed by their appearance frequency.", 
            "cell_type": "markdown", 
            "metadata": {}
        }, 
        {
            "execution_count": 9, 
            "cell_type": "code", 
            "metadata": {}, 
            "outputs": [
                {
                    "execution_count": 9, 
                    "metadata": {}, 
                    "data": {
                        "text/html": "<div>\n<style scoped>\n    .dataframe tbody tr th:only-of-type {\n        vertical-align: middle;\n    }\n\n    .dataframe tbody tr th {\n        vertical-align: top;\n    }\n\n    .dataframe thead th {\n        text-align: right;\n    }\n</style>\n<table border=\"1\" class=\"dataframe\">\n  <thead>\n    <tr style=\"text-align: right;\">\n      <th></th>\n      <th>Neighborhood Longitude</th>\n      <th>Neighborhood Latitude</th>\n      <th>Accessories Store</th>\n      <th>American Restaurant</th>\n      <th>Arepa Restaurant</th>\n      <th>Asian Restaurant</th>\n      <th>Austrian Restaurant</th>\n      <th>Bakery</th>\n      <th>Bank</th>\n      <th>Bar</th>\n      <th>...</th>\n      <th>Tea Room</th>\n      <th>Tennis Stadium</th>\n      <th>Trail</th>\n      <th>Veterinarian</th>\n      <th>Video Game Store</th>\n      <th>Vietnamese Restaurant</th>\n      <th>Wine Bar</th>\n      <th>Wine Shop</th>\n      <th>Women's Store</th>\n      <th>Yoga Studio</th>\n    </tr>\n  </thead>\n  <tbody>\n    <tr>\n      <th>0</th>\n      <td>-73.9943</td>\n      <td>40.7156</td>\n      <td>0.000000</td>\n      <td>0.040000</td>\n      <td>0.000000</td>\n      <td>0.02</td>\n      <td>0.01</td>\n      <td>0.030000</td>\n      <td>0.000000</td>\n      <td>0.020000</td>\n      <td>...</td>\n      <td>0.01</td>\n      <td>0.000000</td>\n      <td>0.000000</td>\n      <td>0.000000</td>\n      <td>0.000000</td>\n      <td>0.04</td>\n      <td>0.000000</td>\n      <td>0.000000</td>\n      <td>0.000000</td>\n      <td>0.010000</td>\n    </tr>\n    <tr>\n      <th>1</th>\n      <td>-73.9497</td>\n      <td>40.8236</td>\n      <td>0.000000</td>\n      <td>0.000000</td>\n      <td>0.000000</td>\n      <td>0.00</td>\n      <td>0.00</td>\n      <td>0.017241</td>\n      <td>0.000000</td>\n      <td>0.017241</td>\n      <td>...</td>\n      <td>0.00</td>\n      <td>0.000000</td>\n      <td>0.000000</td>\n      <td>0.000000</td>\n      <td>0.000000</td>\n      <td>0.00</td>\n      <td>0.017241</td>\n      <td>0.000000</td>\n      <td>0.000000</td>\n      <td>0.034483</td>\n    </tr>\n    <tr>\n      <th>2</th>\n      <td>-73.9369</td>\n      <td>40.8519</td>\n      <td>0.011905</td>\n      <td>0.011905</td>\n      <td>0.011905</td>\n      <td>0.00</td>\n      <td>0.00</td>\n      <td>0.047619</td>\n      <td>0.011905</td>\n      <td>0.011905</td>\n      <td>...</td>\n      <td>0.00</td>\n      <td>0.000000</td>\n      <td>0.000000</td>\n      <td>0.000000</td>\n      <td>0.011905</td>\n      <td>0.00</td>\n      <td>0.011905</td>\n      <td>0.023810</td>\n      <td>0.011905</td>\n      <td>0.000000</td>\n    </tr>\n    <tr>\n      <th>3</th>\n      <td>-73.9212</td>\n      <td>40.8677</td>\n      <td>0.000000</td>\n      <td>0.034483</td>\n      <td>0.000000</td>\n      <td>0.00</td>\n      <td>0.00</td>\n      <td>0.034483</td>\n      <td>0.000000</td>\n      <td>0.017241</td>\n      <td>...</td>\n      <td>0.00</td>\n      <td>0.000000</td>\n      <td>0.017241</td>\n      <td>0.017241</td>\n      <td>0.000000</td>\n      <td>0.00</td>\n      <td>0.034483</td>\n      <td>0.017241</td>\n      <td>0.000000</td>\n      <td>0.017241</td>\n    </tr>\n    <tr>\n      <th>4</th>\n      <td>-73.9107</td>\n      <td>40.8766</td>\n      <td>0.000000</td>\n      <td>0.041667</td>\n      <td>0.000000</td>\n      <td>0.00</td>\n      <td>0.00</td>\n      <td>0.000000</td>\n      <td>0.041667</td>\n      <td>0.000000</td>\n      <td>...</td>\n      <td>0.00</td>\n      <td>0.041667</td>\n      <td>0.000000</td>\n      <td>0.000000</td>\n      <td>0.041667</td>\n      <td>0.00</td>\n      <td>0.000000</td>\n      <td>0.000000</td>\n      <td>0.000000</td>\n      <td>0.041667</td>\n    </tr>\n  </tbody>\n</table>\n<p>5 rows \u00d7 122 columns</p>\n</div>", 
                        "text/plain": "   Neighborhood Longitude  Neighborhood Latitude  Accessories Store  \\\n0                -73.9943                40.7156           0.000000   \n1                -73.9497                40.8236           0.000000   \n2                -73.9369                40.8519           0.011905   \n3                -73.9212                40.8677           0.000000   \n4                -73.9107                40.8766           0.000000   \n\n   American Restaurant  Arepa Restaurant  Asian Restaurant  \\\n0             0.040000          0.000000              0.02   \n1             0.000000          0.000000              0.00   \n2             0.011905          0.011905              0.00   \n3             0.034483          0.000000              0.00   \n4             0.041667          0.000000              0.00   \n\n   Austrian Restaurant    Bakery      Bank       Bar     ...       Tea Room  \\\n0                 0.01  0.030000  0.000000  0.020000     ...           0.01   \n1                 0.00  0.017241  0.000000  0.017241     ...           0.00   \n2                 0.00  0.047619  0.011905  0.011905     ...           0.00   \n3                 0.00  0.034483  0.000000  0.017241     ...           0.00   \n4                 0.00  0.000000  0.041667  0.000000     ...           0.00   \n\n   Tennis Stadium     Trail  Veterinarian  Video Game Store  \\\n0        0.000000  0.000000      0.000000          0.000000   \n1        0.000000  0.000000      0.000000          0.000000   \n2        0.000000  0.000000      0.000000          0.011905   \n3        0.000000  0.017241      0.017241          0.000000   \n4        0.041667  0.000000      0.000000          0.041667   \n\n   Vietnamese Restaurant  Wine Bar  Wine Shop  Women's Store  Yoga Studio  \n0                   0.04  0.000000   0.000000       0.000000     0.010000  \n1                   0.00  0.017241   0.000000       0.000000     0.034483  \n2                   0.00  0.011905   0.023810       0.011905     0.000000  \n3                   0.00  0.034483   0.017241       0.000000     0.017241  \n4                   0.00  0.000000   0.000000       0.000000     0.041667  \n\n[5 rows x 122 columns]"
                    }, 
                    "output_type": "execute_result"
                }
            ], 
            "source": "grouped = onehot.groupby(['Neighborhood Longitude', 'Neighborhood Latitude']).mean().reset_index()\ngrouped"
        }, 
        {
            "source": "Finally, we can generate the user profile table by calculating the dot function of the venues' appearance frequency and the user's rating.  This gives us an understand of what the user likes.", 
            "cell_type": "markdown", 
            "metadata": {}
        }, 
        {
            "execution_count": 10, 
            "cell_type": "code", 
            "metadata": {}, 
            "outputs": [
                {
                    "execution_count": 10, 
                    "metadata": {}, 
                    "data": {
                        "text/plain": "Accessories Store        0.095238\nAmerican Restaurant      1.051732\nArepa Restaurant         0.095238\nAsian Restaurant         0.160000\nAustrian Restaurant      0.080000\nBakery                   1.120952\nBank                     0.386905\nBar                      0.582824\nBeer Bar                 0.095238\nBike Shop                0.080000\nBistro                   0.172414\nBoutique                 0.080000\nBreakfast Spot           0.095238\nBubble Tea Shop          0.480000\nBurger Joint             0.250411\nBus Station              0.172414\nCaf\u00e9                     1.786535\nCaribbean Restaurant     0.673235\nChinese Restaurant       1.565649\nClothing Store           0.095238\nCocktail Bar             0.725583\nCoffee Shop              1.631675\nCosmetics Shop           0.235172\nDeli / Bodega            1.620074\nDepartment Store         0.386905\nDessert Shop             0.080000\nDim Sum Restaurant       0.320000\nDiner                    0.559319\nDiscount Store           0.583333\nDog Run                  0.172414\n                           ...   \nSalon / Barbershop       0.240000\nSandwich Place           0.952488\nScenic Lookout           0.095238\nSchool                   0.310345\nSeafood Restaurant       0.714491\nShanghai Restaurant      0.080000\nShipping Store           0.095238\nShoe Store               0.562143\nShopping Mall            0.291667\nSmoke Shop               0.155172\nSnack Place              0.080000\nSpa                      0.255238\nSpanish Restaurant       0.502824\nSporting Goods Shop      0.095238\nSteakhouse               0.464080\nSupermarket              0.362890\nSupplement Shop          0.542077\nSushi Restaurant         0.250411\nTaiwanese Restaurant     0.080000\nTapas Restaurant         0.190476\nTea Room                 0.080000\nTennis Stadium           0.291667\nTrail                    0.172414\nVeterinarian             0.172414\nVideo Game Store         0.386905\nVietnamese Restaurant    0.320000\nWine Bar                 0.595238\nWine Shop                0.362890\nWomen's Store            0.095238\nYoga Studio              0.854425\nLength: 120, dtype: float64"
                    }, 
                    "output_type": "execute_result"
                }
            ], 
            "source": "userGenreTable = grouped.drop('Neighborhood Longitude', 1).drop('Neighborhood Latitude', 1)\nuserprofile = userGenreTable.transpose().dot(df['Rating'])\nuserprofile"
        }, 
        {
            "source": "### Showing the results", 
            "cell_type": "markdown", 
            "metadata": {}
        }, 
        {
            "source": "We have now generated the user profile, and now we can see where the user might be interested in visiting.  We still ask for input of a location's coordinates, and our program will help the user decide whether or not he/her will like it.", 
            "cell_type": "markdown", 
            "metadata": {}
        }, 
        {
            "execution_count": 11, 
            "cell_type": "code", 
            "metadata": {}, 
            "outputs": [
                {
                    "output_type": "stream", 
                    "name": "stdout", 
                    "text": "Enter Coordinates, separated by a comma: 40.877531, -73.905582\n"
                }
            ], 
            "source": "df_user = pd.DataFrame({\"Latitude\":[np.nan], \"Longitude\":[np.nan]})\n\nx1_user, x2_user = input(\"Enter Coordinates, separated by a comma: \").replace(\" \", \"\").split(\",\")\nx1_user, x2_user = round(float(x1_user), 4), round(float(x2_user), 4)\n\n# Check if the values are true coordinates, and if so, store them into two cells.\nif (x1_user >= -90) and (x1_user <= 90):\n    df_user.iloc[[0], [0]] = x1_user\nelif (x1_user < -90) or (x1_user > 90):\n    print(\"Not a true latitude~~\")\n\nif (x2_user >= -180) and (x2_user<= 180):\n    df_user.iloc[[0], [1]] = x2_user\nelif (x2_user < -180) or (x2_user > 180):\n    print(\"Not a true longitude~~\")"
        }, 
        {
            "source": "Let's turn the input into a metric, using the same manipulations we did earlier.  The result will be the genre table of the input location.", 
            "cell_type": "markdown", 
            "metadata": {}
        }, 
        {
            "execution_count": 12, 
            "cell_type": "code", 
            "metadata": {}, 
            "outputs": [], 
            "source": "venue_user = getNearbyVenues(latitudes = df_user['Latitude'], longitudes = df_user['Longitude'])\n\nonehot_user = pd.get_dummies(venue_user[['Venue Category']], prefix=\"\", prefix_sep=\"\")\n\n# add coordinates column back to dataframe\nonehot_user['Neighborhood Latitude'] = venue_user['Neighborhood Latitude'] \nonehot_user['Neighborhood Longitude'] = venue_user['Neighborhood Longitude'] \n\n# move neighborhood column to the first column\nfixed_columns = [onehot_user.columns[-1]] + list(onehot_user.columns[:-1])\nonehot_user = onehot_user[fixed_columns]\n\ngrouped_user = onehot_user.groupby(['Neighborhood Longitude', 'Neighborhood Latitude']).mean().reset_index()\n\nuserGenreTable_user = grouped_user.drop('Neighborhood Longitude', 1).drop('Neighborhood Latitude', 1)"
        }, 
        {
            "source": "With the genre table and the user profile we calculated, the possibility that the user likes this place can be calculated.", 
            "cell_type": "markdown", 
            "metadata": {}
        }, 
        {
            "execution_count": 13, 
            "cell_type": "code", 
            "metadata": {}, 
            "outputs": [
                {
                    "output_type": "stream", 
                    "name": "stdout", 
                    "text": "The possibility that you like this place is 1.77 %\n"
                }
            ], 
            "source": "rating_user = ((userGenreTable_user * userprofile).sum(axis = 1))/(userprofile.sum())\nprint(\"The possibility that you like this place is\", round(rating_user.iloc[0] * 100, 2), \"%\")"
        }, 
        {
            "source": "### Thank you", 
            "cell_type": "markdown", 
            "metadata": {}
        }, 
        {
            "execution_count": null, 
            "cell_type": "code", 
            "metadata": {}, 
            "outputs": [], 
            "source": ""
        }
    ], 
    "metadata": {
        "kernelspec": {
            "display_name": "Python 3.5", 
            "name": "python3", 
            "language": "python"
        }, 
        "language_info": {
            "mimetype": "text/x-python", 
            "nbconvert_exporter": "python", 
            "version": "3.5.5", 
            "name": "python", 
            "file_extension": ".py", 
            "pygments_lexer": "ipython3", 
            "codemirror_mode": {
                "version": 3, 
                "name": "ipython"
            }
        }
    }, 
    "nbformat": 4
}